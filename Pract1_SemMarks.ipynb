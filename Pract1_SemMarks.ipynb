{
  "nbformat": 4,
  "nbformat_minor": 0,
  "metadata": {
    "colab": {
      "name": "Pract1_SemMarks.ipynb",
      "provenance": [],
      "collapsed_sections": [],
      "toc_visible": true,
      "authorship_tag": "ABX9TyMOafMyQaJimdzx97DrR7ea",
      "include_colab_link": true
    },
    "kernelspec": {
      "name": "python3",
      "display_name": "Python 3"
    }
  },
  "cells": [
    {
      "cell_type": "markdown",
      "metadata": {
        "id": "view-in-github",
        "colab_type": "text"
      },
      "source": [
        "<a href=\"https://colab.research.google.com/github/rakeshpati57/hello-world/blob/main/Pract1_SemMarks.ipynb\" target=\"_parent\"><img src=\"https://colab.research.google.com/assets/colab-badge.svg\" alt=\"Open In Colab\"/></a>"
      ]
    },
    {
      "cell_type": "markdown",
      "metadata": {
        "id": "FTrFp1Yz4Qpw"
      },
      "source": [
        "# New Section"
      ]
    },
    {
      "cell_type": "markdown",
      "metadata": {
        "id": "V_CORVtM6ZtV"
      },
      "source": [
        ""
      ]
    },
    {
      "cell_type": "code",
      "metadata": {
        "colab": {
          "base_uri": "https://localhost:8080/",
          "height": 155
        },
        "id": "DO2NyyfBBtCT",
        "outputId": "6c02806e-4498-4318-edf2-24bab9b5718a"
      },
      "source": [
        "import pandas as pd\n",
        "print(\"*****Welcome to Rakesh Pati University of Technology******\")\n",
        "print(\"Enetr Name of the Student\")\n",
        "name = input();\n",
        "print(name + \" is a student of Silicon\")\n",
        "print(\"Enter semister of interest\")\n",
        "Semister = input();\n",
        "df = pd.read_excel('/content/gdrive/My Drive/Python/RPUT.csv')"
      ],
      "execution_count": null,
      "outputs": [
        {
          "output_type": "error",
          "ename": "SyntaxError",
          "evalue": "ignored",
          "traceback": [
            "\u001b[0;36m  File \u001b[0;32m\"<ipython-input-8-beaf5f55859f>\"\u001b[0;36m, line \u001b[0;32m8\u001b[0m\n\u001b[0;31m    df = pd.read.excel(\"C:\\Users\\tir6kor\\Desktop\\Rakesh\\JKL_2020\\Python\\RPUT.xlsx\")\u001b[0m\n\u001b[0m                      ^\u001b[0m\n\u001b[0;31mSyntaxError\u001b[0m\u001b[0;31m:\u001b[0m (unicode error) 'unicodeescape' codec can't decode bytes in position 2-3: truncated \\UXXXXXXXX escape\n"
          ]
        }
      ]
    },
    {
      "cell_type": "code",
      "metadata": {
        "colab": {
          "base_uri": "https://localhost:8080/"
        },
        "id": "oNWOq80pNrCi",
        "outputId": "1c794db2-9886-42fc-84b4-33621c75d22d"
      },
      "source": [
        "from google.colab import drive\n",
        "drive.mount(\"/content/gdrive\")"
      ],
      "execution_count": null,
      "outputs": [
        {
          "output_type": "stream",
          "text": [
            "Drive already mounted at /content/gdrive; to attempt to forcibly remount, call drive.mount(\"/content/gdrive\", force_remount=True).\n"
          ],
          "name": "stdout"
        }
      ]
    },
    {
      "cell_type": "markdown",
      "metadata": {
        "id": "4MbLwVS6Nr_d"
      },
      "source": [
        "Uploading files to Google_colab"
      ]
    },
    {
      "cell_type": "markdown",
      "metadata": {
        "id": "zeF5xKvbrIJJ"
      },
      "source": [
        ""
      ]
    },
    {
      "cell_type": "markdown",
      "metadata": {
        "id": "TvHXjML6rIF1"
      },
      "source": [
        "Printing from a String"
      ]
    },
    {
      "cell_type": "code",
      "metadata": {
        "colab": {
          "base_uri": "https://localhost:8080/"
        },
        "id": "vFf8FR5grMsS",
        "outputId": "0dfb659d-4a8a-4bc6-d45d-2ae5f24a9bea"
      },
      "source": [
        "for x in \"Rakesh\":\n",
        "  print(x)"
      ],
      "execution_count": 32,
      "outputs": [
        {
          "output_type": "stream",
          "text": [
            "R\n",
            "a\n",
            "k\n",
            "e\n",
            "s\n",
            "h\n"
          ],
          "name": "stdout"
        }
      ]
    },
    {
      "cell_type": "markdown",
      "metadata": {
        "id": "SPwI1gnLrUoo"
      },
      "source": [
        "Printing from a dictionary\n",
        "\n",
        "/*Since 2 elements are there. x = variable name and y is its value */"
      ]
    },
    {
      "cell_type": "code",
      "metadata": {
        "colab": {
          "base_uri": "https://localhost:8080/"
        },
        "id": "sTlsar7CrYDz",
        "outputId": "755265b7-ab0f-4438-e719-55f1c882a2d0"
      },
      "source": [
        "dict1 = {\n",
        "    'age':10,\n",
        "    'name':'Rakesh',\n",
        "    'standard': 5,\n",
        "    'school': 'Gurukula'\n",
        "}\n",
        "\n",
        "for x,y in dict1.items():     \n",
        "  print(x,y)"
      ],
      "execution_count": 40,
      "outputs": [
        {
          "output_type": "stream",
          "text": [
            "age 10\n",
            "name Rakesh\n",
            "standard 5\n",
            "school Gurukula\n"
          ],
          "name": "stdout"
        }
      ]
    },
    {
      "cell_type": "markdown",
      "metadata": {
        "id": "u8aQvYOdswZX"
      },
      "source": [
        "Printing dictionary as it is"
      ]
    },
    {
      "cell_type": "code",
      "metadata": {
        "colab": {
          "base_uri": "https://localhost:8080/"
        },
        "id": "g7WoUAlJs0PT",
        "outputId": "93e34549-eed8-4b63-fdda-11259b217103"
      },
      "source": [
        "for y in dict1.items():\n",
        "  print(y)"
      ],
      "execution_count": 42,
      "outputs": [
        {
          "output_type": "stream",
          "text": [
            "('age', 10)\n",
            "('name', 'Rakesh')\n",
            "('standard', 5)\n",
            "('school', 'Gurukula')\n"
          ],
          "name": "stdout"
        }
      ]
    },
    {
      "cell_type": "markdown",
      "metadata": {
        "id": "iF_4pZt1tbOX"
      },
      "source": [
        "If for loop is NOT included, then only last item will be considered"
      ]
    },
    {
      "cell_type": "code",
      "metadata": {
        "colab": {
          "base_uri": "https://localhost:8080/"
        },
        "id": "rEvNKh-ftkgB",
        "outputId": "dc75eb3d-d686-467d-a266-e031f9f7296a"
      },
      "source": [
        "print(x,y)"
      ],
      "execution_count": 43,
      "outputs": [
        {
          "output_type": "stream",
          "text": [
            "school ('school', 'Gurukula')\n"
          ],
          "name": "stdout"
        }
      ]
    },
    {
      "cell_type": "markdown",
      "metadata": {
        "id": "fWWFhYPctwBh"
      },
      "source": [
        "Getting only values from the items in the dictionary"
      ]
    },
    {
      "cell_type": "code",
      "metadata": {
        "colab": {
          "base_uri": "https://localhost:8080/"
        },
        "id": "9f0fi0h_t1Yx",
        "outputId": "aa63dfff-9a3e-4dcb-f99e-fe2c85361653"
      },
      "source": [
        "for x,y in dict1.items():\n",
        "  print(y)"
      ],
      "execution_count": 44,
      "outputs": [
        {
          "output_type": "stream",
          "text": [
            "10\n",
            "Rakesh\n",
            "5\n",
            "Gurukula\n"
          ],
          "name": "stdout"
        }
      ]
    },
    {
      "cell_type": "markdown",
      "metadata": {
        "id": "mFQ3hp0FuoDQ"
      },
      "source": [
        "Find the even no from the List"
      ]
    },
    {
      "cell_type": "code",
      "metadata": {
        "colab": {
          "base_uri": "https://localhost:8080/"
        },
        "id": "zdK2Zi9xuqra",
        "outputId": "3d45ffe4-9642-48cf-a846-03aa200e6b02"
      },
      "source": [
        "list1 = [2,3,4,5,6,7,8,98,78,98,55]\n",
        "for x in list1:\n",
        "  if x%2 == 0:\n",
        "    print(str(x) + \" is an even no\")\n",
        "  else:\n",
        "    print(str(x) + \" is an Odd no\")"
      ],
      "execution_count": 46,
      "outputs": [
        {
          "output_type": "stream",
          "text": [
            "2 is an even no\n",
            "3 is an Odd no\n",
            "4 is an even no\n",
            "5 is an Odd no\n",
            "6 is an even no\n",
            "7 is an Odd no\n",
            "8 is an even no\n",
            "98 is an even no\n",
            "78 is an even no\n",
            "98 is an even no\n",
            "55 is an Odd no\n"
          ],
          "name": "stdout"
        }
      ]
    },
    {
      "cell_type": "markdown",
      "metadata": {
        "id": "GQ4jMLSsxniI"
      },
      "source": [
        "Range function"
      ]
    },
    {
      "cell_type": "code",
      "metadata": {
        "colab": {
          "base_uri": "https://localhost:8080/"
        },
        "id": "fpIIwm-vxpMU",
        "outputId": "6f1b9210-7f7f-4118-b9b8-b0f8c7f4ba26"
      },
      "source": [
        "print('1st print')\n",
        "for x in range(6):\n",
        "  print(x)\n",
        "print('2nd print')\n",
        "for x in range(2,6):\n",
        "  print(x)\n",
        "print('3rd print')\n",
        "for x in range (2,30,3):\n",
        " print(x)"
      ],
      "execution_count": 56,
      "outputs": [
        {
          "output_type": "stream",
          "text": [
            "1st print\n",
            "0\n",
            "1\n",
            "2\n",
            "3\n",
            "4\n",
            "5\n",
            "2nd print\n",
            "2\n",
            "3\n",
            "4\n",
            "5\n",
            "3rd print\n",
            "2\n",
            "5\n",
            "8\n",
            "11\n",
            "14\n",
            "17\n",
            "20\n",
            "23\n",
            "26\n",
            "29\n"
          ],
          "name": "stdout"
        }
      ]
    }
  ]
}