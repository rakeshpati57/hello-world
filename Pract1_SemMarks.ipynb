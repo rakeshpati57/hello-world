{
  "nbformat": 4,
  "nbformat_minor": 0,
  "metadata": {
    "colab": {
      "name": "Pract1_SemMarks.ipynb",
      "provenance": [],
      "collapsed_sections": [],
      "toc_visible": true,
      "authorship_tag": "ABX9TyPmWfhNaTNccYOPvtN1zc1R",
      "include_colab_link": true
    },
    "kernelspec": {
      "name": "python3",
      "display_name": "Python 3"
    }
  },
  "cells": [
    {
      "cell_type": "markdown",
      "metadata": {
        "id": "view-in-github",
        "colab_type": "text"
      },
      "source": [
        "<a href=\"https://colab.research.google.com/github/rakeshpati57/hello-world/blob/main/Pract1_SemMarks.ipynb\" target=\"_parent\"><img src=\"https://colab.research.google.com/assets/colab-badge.svg\" alt=\"Open In Colab\"/></a>"
      ]
    },
    {
      "cell_type": "markdown",
      "metadata": {
        "id": "FTrFp1Yz4Qpw"
      },
      "source": [
        "# New Section"
      ]
    },
    {
      "cell_type": "markdown",
      "metadata": {
        "id": "V_CORVtM6ZtV"
      },
      "source": [
        ""
      ]
    },
    {
      "cell_type": "code",
      "metadata": {
        "colab": {
          "base_uri": "https://localhost:8080/",
          "height": 155
        },
        "id": "DO2NyyfBBtCT",
        "outputId": "6c02806e-4498-4318-edf2-24bab9b5718a"
      },
      "source": [
        "import pandas as pd\n",
        "print(\"*****Welcome to Rakesh Pati University of Technology******\")\n",
        "print(\"Enetr Name of the Student\")\n",
        "name = input();\n",
        "print(name + \" is a student of Silicon\")\n",
        "print(\"Enter semister of interest\")\n",
        "Semister = input();\n",
        "df = pd.read_excel('/content/gdrive/My Drive/Python/RPUT.csv')"
      ],
      "execution_count": null,
      "outputs": [
        {
          "output_type": "error",
          "ename": "SyntaxError",
          "evalue": "ignored",
          "traceback": [
            "\u001b[0;36m  File \u001b[0;32m\"<ipython-input-8-beaf5f55859f>\"\u001b[0;36m, line \u001b[0;32m8\u001b[0m\n\u001b[0;31m    df = pd.read.excel(\"C:\\Users\\tir6kor\\Desktop\\Rakesh\\JKL_2020\\Python\\RPUT.xlsx\")\u001b[0m\n\u001b[0m                      ^\u001b[0m\n\u001b[0;31mSyntaxError\u001b[0m\u001b[0;31m:\u001b[0m (unicode error) 'unicodeescape' codec can't decode bytes in position 2-3: truncated \\UXXXXXXXX escape\n"
          ]
        }
      ]
    },
    {
      "cell_type": "code",
      "metadata": {
        "colab": {
          "base_uri": "https://localhost:8080/"
        },
        "id": "oNWOq80pNrCi",
        "outputId": "1c794db2-9886-42fc-84b4-33621c75d22d"
      },
      "source": [
        "from google.colab import drive\n",
        "drive.mount(\"/content/gdrive\")"
      ],
      "execution_count": null,
      "outputs": [
        {
          "output_type": "stream",
          "text": [
            "Drive already mounted at /content/gdrive; to attempt to forcibly remount, call drive.mount(\"/content/gdrive\", force_remount=True).\n"
          ],
          "name": "stdout"
        }
      ]
    },
    {
      "cell_type": "markdown",
      "metadata": {
        "id": "4MbLwVS6Nr_d"
      },
      "source": [
        "Uploading files to Google_colab"
      ]
    },
    {
      "cell_type": "markdown",
      "metadata": {
        "id": "zeF5xKvbrIJJ"
      },
      "source": [
        ""
      ]
    },
    {
      "cell_type": "markdown",
      "metadata": {
        "id": "TvHXjML6rIF1"
      },
      "source": [
        "Printing from a String"
      ]
    },
    {
      "cell_type": "code",
      "metadata": {
        "colab": {
          "base_uri": "https://localhost:8080/"
        },
        "id": "vFf8FR5grMsS",
        "outputId": "0dfb659d-4a8a-4bc6-d45d-2ae5f24a9bea"
      },
      "source": [
        "for x in \"Rakesh\":\n",
        "  print(x)"
      ],
      "execution_count": null,
      "outputs": [
        {
          "output_type": "stream",
          "text": [
            "R\n",
            "a\n",
            "k\n",
            "e\n",
            "s\n",
            "h\n"
          ],
          "name": "stdout"
        }
      ]
    },
    {
      "cell_type": "markdown",
      "metadata": {
        "id": "SPwI1gnLrUoo"
      },
      "source": [
        "Printing from a dictionary\n",
        "\n",
        "/*Since 2 elements are there. x = variable name and y is its value */"
      ]
    },
    {
      "cell_type": "code",
      "metadata": {
        "colab": {
          "base_uri": "https://localhost:8080/"
        },
        "id": "sTlsar7CrYDz",
        "outputId": "755265b7-ab0f-4438-e719-55f1c882a2d0"
      },
      "source": [
        "dict1 = {\n",
        "    'age':10,\n",
        "    'name':'Rakesh',\n",
        "    'standard': 5,\n",
        "    'school': 'Gurukula'\n",
        "}\n",
        "\n",
        "for x,y in dict1.items():     \n",
        "  print(x,y)"
      ],
      "execution_count": null,
      "outputs": [
        {
          "output_type": "stream",
          "text": [
            "age 10\n",
            "name Rakesh\n",
            "standard 5\n",
            "school Gurukula\n"
          ],
          "name": "stdout"
        }
      ]
    },
    {
      "cell_type": "markdown",
      "metadata": {
        "id": "u8aQvYOdswZX"
      },
      "source": [
        "Printing dictionary as it is"
      ]
    },
    {
      "cell_type": "code",
      "metadata": {
        "colab": {
          "base_uri": "https://localhost:8080/"
        },
        "id": "g7WoUAlJs0PT",
        "outputId": "93e34549-eed8-4b63-fdda-11259b217103"
      },
      "source": [
        "for y in dict1.items():\n",
        "  print(y)"
      ],
      "execution_count": null,
      "outputs": [
        {
          "output_type": "stream",
          "text": [
            "('age', 10)\n",
            "('name', 'Rakesh')\n",
            "('standard', 5)\n",
            "('school', 'Gurukula')\n"
          ],
          "name": "stdout"
        }
      ]
    },
    {
      "cell_type": "markdown",
      "metadata": {
        "id": "iF_4pZt1tbOX"
      },
      "source": [
        "If for loop is NOT included, then only last item will be considered"
      ]
    },
    {
      "cell_type": "code",
      "metadata": {
        "colab": {
          "base_uri": "https://localhost:8080/"
        },
        "id": "rEvNKh-ftkgB",
        "outputId": "dc75eb3d-d686-467d-a266-e031f9f7296a"
      },
      "source": [
        "print(x,y)"
      ],
      "execution_count": null,
      "outputs": [
        {
          "output_type": "stream",
          "text": [
            "school ('school', 'Gurukula')\n"
          ],
          "name": "stdout"
        }
      ]
    },
    {
      "cell_type": "markdown",
      "metadata": {
        "id": "fWWFhYPctwBh"
      },
      "source": [
        "Getting only values from the items in the dictionary"
      ]
    },
    {
      "cell_type": "code",
      "metadata": {
        "colab": {
          "base_uri": "https://localhost:8080/"
        },
        "id": "9f0fi0h_t1Yx",
        "outputId": "aa63dfff-9a3e-4dcb-f99e-fe2c85361653"
      },
      "source": [
        "for x,y in dict1.items():\n",
        "  print(y)"
      ],
      "execution_count": null,
      "outputs": [
        {
          "output_type": "stream",
          "text": [
            "10\n",
            "Rakesh\n",
            "5\n",
            "Gurukula\n"
          ],
          "name": "stdout"
        }
      ]
    },
    {
      "cell_type": "markdown",
      "metadata": {
        "id": "mFQ3hp0FuoDQ"
      },
      "source": [
        "Find the even no from the List"
      ]
    },
    {
      "cell_type": "code",
      "metadata": {
        "colab": {
          "base_uri": "https://localhost:8080/"
        },
        "id": "zdK2Zi9xuqra",
        "outputId": "3d45ffe4-9642-48cf-a846-03aa200e6b02"
      },
      "source": [
        "list1 = [2,3,4,5,6,7,8,98,78,98,55]\n",
        "for x in list1:\n",
        "  if x%2 == 0:\n",
        "    print(str(x) + \" is an even no\")\n",
        "  else:\n",
        "    print(str(x) + \" is an Odd no\")"
      ],
      "execution_count": null,
      "outputs": [
        {
          "output_type": "stream",
          "text": [
            "2 is an even no\n",
            "3 is an Odd no\n",
            "4 is an even no\n",
            "5 is an Odd no\n",
            "6 is an even no\n",
            "7 is an Odd no\n",
            "8 is an even no\n",
            "98 is an even no\n",
            "78 is an even no\n",
            "98 is an even no\n",
            "55 is an Odd no\n"
          ],
          "name": "stdout"
        }
      ]
    },
    {
      "cell_type": "markdown",
      "metadata": {
        "id": "GQ4jMLSsxniI"
      },
      "source": [
        "Range function"
      ]
    },
    {
      "cell_type": "code",
      "metadata": {
        "colab": {
          "base_uri": "https://localhost:8080/"
        },
        "id": "fpIIwm-vxpMU",
        "outputId": "6f1b9210-7f7f-4118-b9b8-b0f8c7f4ba26"
      },
      "source": [
        "print('1st print')\n",
        "for x in range(6):\n",
        "  print(x)\n",
        "print('2nd print')\n",
        "for x in range(2,6):\n",
        "  print(x)\n",
        "print('3rd print')\n",
        "for x in range (2,30,3):\n",
        " print(x)"
      ],
      "execution_count": null,
      "outputs": [
        {
          "output_type": "stream",
          "text": [
            "1st print\n",
            "0\n",
            "1\n",
            "2\n",
            "3\n",
            "4\n",
            "5\n",
            "2nd print\n",
            "2\n",
            "3\n",
            "4\n",
            "5\n",
            "3rd print\n",
            "2\n",
            "5\n",
            "8\n",
            "11\n",
            "14\n",
            "17\n",
            "20\n",
            "23\n",
            "26\n",
            "29\n"
          ],
          "name": "stdout"
        }
      ]
    },
    {
      "cell_type": "markdown",
      "metadata": {
        "id": "06Pu_1q8-Nwl"
      },
      "source": [
        "Removing duplicate elements from a list"
      ]
    },
    {
      "cell_type": "code",
      "metadata": {
        "colab": {
          "base_uri": "https://localhost:8080/",
          "height": 267
        },
        "id": "EL51R3bO-Reu",
        "outputId": "8034a65b-2286-487a-a17f-0e0ba4b6cb16"
      },
      "source": [
        "list1 = [1,2,3,4,5,6,7,8,9,1,2,4]\n",
        "res = [] \n",
        "for i in list1: \n",
        "    if i not in res: \n",
        "        res.append(i) \n",
        "print(res)\n",
        "li = [] \n",
        "for x in list1:\n",
        "  if x not in li:   #DOn't know why TypeError is coming for this\n",
        "    li = li.append(x)\n",
        "print(li)\n"
      ],
      "execution_count": 62,
      "outputs": [
        {
          "output_type": "stream",
          "text": [
            "[1, 2, 3, 4, 5, 6, 7, 8, 9]\n"
          ],
          "name": "stdout"
        },
        {
          "output_type": "error",
          "ename": "TypeError",
          "evalue": "ignored",
          "traceback": [
            "\u001b[0;31m---------------------------------------------------------------------------\u001b[0m",
            "\u001b[0;31mTypeError\u001b[0m                                 Traceback (most recent call last)",
            "\u001b[0;32m<ipython-input-62-632f35acd22d>\u001b[0m in \u001b[0;36m<module>\u001b[0;34m()\u001b[0m\n\u001b[1;32m      7\u001b[0m \u001b[0mli\u001b[0m \u001b[0;34m=\u001b[0m \u001b[0;34m[\u001b[0m\u001b[0;34m]\u001b[0m\u001b[0;34m\u001b[0m\u001b[0;34m\u001b[0m\u001b[0m\n\u001b[1;32m      8\u001b[0m \u001b[0;32mfor\u001b[0m \u001b[0mx\u001b[0m \u001b[0;32min\u001b[0m \u001b[0mlist1\u001b[0m\u001b[0;34m:\u001b[0m\u001b[0;34m\u001b[0m\u001b[0;34m\u001b[0m\u001b[0m\n\u001b[0;32m----> 9\u001b[0;31m   \u001b[0;32mif\u001b[0m \u001b[0mx\u001b[0m \u001b[0;32mnot\u001b[0m \u001b[0;32min\u001b[0m \u001b[0mli\u001b[0m\u001b[0;34m:\u001b[0m\u001b[0;34m\u001b[0m\u001b[0;34m\u001b[0m\u001b[0m\n\u001b[0m\u001b[1;32m     10\u001b[0m     \u001b[0mli\u001b[0m \u001b[0;34m=\u001b[0m \u001b[0mli\u001b[0m\u001b[0;34m.\u001b[0m\u001b[0mappend\u001b[0m\u001b[0;34m(\u001b[0m\u001b[0mx\u001b[0m\u001b[0;34m)\u001b[0m\u001b[0;34m\u001b[0m\u001b[0;34m\u001b[0m\u001b[0m\n\u001b[1;32m     11\u001b[0m \u001b[0mprint\u001b[0m\u001b[0;34m(\u001b[0m\u001b[0mli\u001b[0m\u001b[0;34m)\u001b[0m\u001b[0;34m\u001b[0m\u001b[0;34m\u001b[0m\u001b[0m\n",
            "\u001b[0;31mTypeError\u001b[0m: argument of type 'NoneType' is not iterable"
          ]
        }
      ]
    },
    {
      "cell_type": "markdown",
      "metadata": {
        "id": "ZLsZ0oVsl1ke"
      },
      "source": [
        "Quiz2:\n",
        "Beginner to Expert Python.\n",
        "There shouldn't be any space between + and ="
      ]
    },
    {
      "cell_type": "code",
      "metadata": {
        "colab": {
          "base_uri": "https://localhost:8080/",
          "height": 136
        },
        "id": "eTNsyzb_l6DE",
        "outputId": "17c32b25-7586-4f5b-8e38-e732e9283b1c"
      },
      "source": [
        "    m = 10\n",
        "    while True:\n",
        "        if m%15 == 0:\n",
        "            break\n",
        "        print(m)\n",
        "     \n",
        "    m+ = 1"
      ],
      "execution_count": 8,
      "outputs": [
        {
          "output_type": "error",
          "ename": "SyntaxError",
          "evalue": "ignored",
          "traceback": [
            "\u001b[0;36m  File \u001b[0;32m\"<ipython-input-8-50865d0f628e>\"\u001b[0;36m, line \u001b[0;32m7\u001b[0m\n\u001b[0;31m    m+ = 1\u001b[0m\n\u001b[0m       ^\u001b[0m\n\u001b[0;31mSyntaxError\u001b[0m\u001b[0;31m:\u001b[0m invalid syntax\n"
          ]
        }
      ]
    },
    {
      "cell_type": "markdown",
      "metadata": {
        "id": "tI-klVPI6QRv"
      },
      "source": [
        "Function\n",
        "\n",
        "Parameter: Variable that is listed paranthesis in function definition\n",
        "Argument: Value that is sent to the function when it is called\n",
        "\n",
        "e.g.,\n",
        "def my_function(First_name, Last_name): --> First_name, Last_name are parameters\n",
        "  print(First_name + \" \" + Last_name)\n",
        "\n",
        "my_function(\"Hulk\",\"Thor\")\n",
        "\n",
        "In above code Hulk, Thor are qrguments"
      ]
    },
    {
      "cell_type": "code",
      "metadata": {
        "colab": {
          "base_uri": "https://localhost:8080/"
        },
        "id": "WmeinPR66u0Z",
        "outputId": "68dc070c-3929-4aca-98a8-b5e35ff05f52"
      },
      "source": [
        "def my_function(First_name, Last_name):\n",
        "    print(First_name +\" \" + Last_name)\n",
        "\n",
        "my_function(\"Hulk\",\"Thor\")"
      ],
      "execution_count": 65,
      "outputs": [
        {
          "output_type": "stream",
          "text": [
            "Hulk Thor\n"
          ],
          "name": "stdout"
        }
      ]
    },
    {
      "cell_type": "markdown",
      "metadata": {
        "id": "CRYR9H1i8dlD"
      },
      "source": [
        "Arbitary Arguments:\n",
        "\n",
        "If we don't know how many arguments that will be passed into a function, add a * before the parameter name in the function"
      ]
    },
    {
      "cell_type": "code",
      "metadata": {
        "id": "GDJRK9zZ8hTs",
        "outputId": "621b79f4-3e21-4f87-adc5-af72884f5420",
        "colab": {
          "base_uri": "https://localhost:8080/"
        }
      },
      "source": [
        "def my_school(*new_students):\n",
        "  for name in new_students:\n",
        "    print(name)\n",
        "my_school(\"Rama\",\"Shyama\", 'Hari', 'Gopala')"
      ],
      "execution_count": 66,
      "outputs": [
        {
          "output_type": "stream",
          "text": [
            "Rama\n",
            "Shyama\n",
            "Hari\n",
            "Gopala\n"
          ],
          "name": "stdout"
        }
      ]
    },
    {
      "cell_type": "markdown",
      "metadata": {
        "id": "WiIuU820-UKh"
      },
      "source": [
        "Keyword Arguments(Kwargs):\n"
      ]
    }
  ]
}